{
 "cells": [
  {
   "cell_type": "markdown",
   "source": [
    "# Exercise 02: Many Nodes"
   ],
   "metadata": {
    "collapsed": false
   }
  },
  {
   "cell_type": "markdown",
   "source": [
    "## [Overview]"
   ],
   "metadata": {
    "collapsed": false
   }
  },
  {
   "cell_type": "markdown",
   "source": [
    "In this exercise, you'll explore the structure of the SPS computer cluster in general, beyond just the one computer you are on right now (`spsfarm`)."
   ],
   "metadata": {
    "collapsed": false
   }
  },
  {
   "cell_type": "markdown",
   "source": [
    "## [Cluster Background]"
   ],
   "metadata": {
    "collapsed": false
   }
  },
  {
   "cell_type": "markdown",
   "source": [
    "Why do we say we have an SPS \"cluster\" rather than \"computer\"? It is because the SPS Cluster is actually multiple individual computers (or \"nodes\") working together to function as more than the sum of their parts. Below is a description of the computers that make up this cluster.\n",
    "\n",
    "- spsfarm\n",
    "    - The head node of the cluster. When you log in, this is the node you're on, and where you'll spend the majority of your time. It has access to very many powerful CPU's.\n",
    "- zeus\n",
    "    - The GPU node of the cluster. This node also has powerful CPU's, but its speciality is its 4 GTX 2080TI NVIDIA GPU's. You will use this (in later events/on your own) if you need to use GPU's, for example for machine learning or large number crunching.\n",
    "- hermes[1-5]\n",
    "    - These are actually 5 separate but identical nodes, `hermes1`, `hermes2`, etc. They will mainly be used for running jobs that take a long time to run (on the order of days-weeks) and for parallel computing (using all 5 at once to do the same tasks."
   ],
   "metadata": {
    "collapsed": false
   }
  },
  {
   "cell_type": "markdown",
   "source": [],
   "metadata": {
    "collapsed": false
   }
  },
  {
   "cell_type": "markdown",
   "source": [],
   "metadata": {
    "collapsed": false
   }
  },
  {
   "cell_type": "markdown",
   "source": [],
   "metadata": {
    "collapsed": false
   }
  },
  {
   "cell_type": "markdown",
   "source": [],
   "metadata": {
    "collapsed": false
   }
  },
  {
   "cell_type": "markdown",
   "source": [],
   "metadata": {
    "collapsed": false
   }
  },
  {
   "cell_type": "markdown",
   "source": [],
   "metadata": {
    "collapsed": false
   }
  },
  {
   "cell_type": "markdown",
   "source": [],
   "metadata": {
    "collapsed": false
   }
  },
  {
   "cell_type": "markdown",
   "source": [],
   "metadata": {
    "collapsed": false
   }
  }
 ],
 "metadata": {
  "kernelspec": {
   "display_name": "Python 3",
   "language": "python",
   "name": "python3"
  },
  "language_info": {
   "codemirror_mode": {
    "name": "ipython",
    "version": 2
   },
   "file_extension": ".py",
   "mimetype": "text/x-python",
   "name": "python",
   "nbconvert_exporter": "python",
   "pygments_lexer": "ipython2",
   "version": "2.7.6"
  }
 },
 "nbformat": 4,
 "nbformat_minor": 0
}
