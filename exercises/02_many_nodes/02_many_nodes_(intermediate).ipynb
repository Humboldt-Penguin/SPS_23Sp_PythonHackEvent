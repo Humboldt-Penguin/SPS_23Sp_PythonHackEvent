{
 "cells": [
  {
   "cell_type": "markdown",
   "source": [
    "# Puzzle 02: Many Nodes"
   ],
   "metadata": {
    "collapsed": false
   }
  },
  {
   "cell_type": "markdown",
   "source": [
    "## [Overview]"
   ],
   "metadata": {
    "collapsed": false
   }
  },
  {
   "cell_type": "markdown",
   "source": [
    "In this exercise, you'll explore the structure of the SPS computer cluster in general, beyond just the one computer you are on right now (`spsfarm`). You will have to poke around in the file system for each, and find out about its specs. Then, you will use this information to solve the puzzle."
   ],
   "metadata": {
    "collapsed": false
   }
  },
  {
   "cell_type": "markdown",
   "source": [
    "## [Cluster Background]"
   ],
   "metadata": {
    "collapsed": false
   }
  },
  {
   "cell_type": "markdown",
   "source": [
    "Why do we say we have an SPS \"cluster\" rather than \"computer\"? It is because the SPS Cluster is actually multiple individual computers (or \"nodes\") working together to function as more than the sum of their parts. Below is a description of the computers that make up this cluster.\n",
    "\n",
    "- spsfarm\n",
    "    - The head node of the cluster. When you log in, this is the node you're on, and where you'll spend the majority of your time. It has access to very many powerful CPU's.\n",
    "- zeus\n",
    "    - The GPU node of the cluster. This node also has powerful CPU's, but its speciality is its 4 GTX 2080TI NVIDIA GPU's. You will use this (in later events/on your own) if you need to use GPU's, for example for machine learning or large number crunching.\n",
    "- hermes[1-5]\n",
    "    - These are actually 5 separate but identical nodes, `hermes1`, `hermes2`, etc. They will mainly be used for running jobs that take a long time to run (on the order of days-weeks) and for parallel computing (using all 5 at once to do the same tasks."
   ],
   "metadata": {
    "collapsed": false
   }
  },
  {
   "cell_type": "markdown",
   "source": [
    "## [The Puzzle]"
   ],
   "metadata": {
    "collapsed": false
   }
  },
  {
   "cell_type": "markdown",
   "source": [
    "You will be doing this puzzle in the terminal, using Linux commands, rather than in this notebook. Because the existing terminal is being used to run the jupyter server (the `jupyter notebook ...`) command, you will need to connect to the cluster again in a new terminal. Follow steps 1 and 2 again to do this.\n",
    "\n",
    "In this puzzle, you will be exploring around some of these nodes, looking for clues, and then will finally combine the clues to make a password that will give you one part of the final answer!"
   ],
   "metadata": {
    "collapsed": false
   }
  },
  {
   "cell_type": "markdown",
   "source": [
    "I forgot where my two best childhood neighborhood friends live! Can you help me find them? I have a list all 5000 of my friends, their gender, age, and the street address they live on (yes I'm very popular to have that many friends and no it's not weird that I have a list 😤).\n",
    "\n",
    "Because I love the SPS cluster so much, I put their names in specific spots in the list (`names.txt`). My first friend is somewhere having to do with `spsfarm`, and the second has to do with `zeus`. Each friend is somewhere in lines `b` to `b+c`, where `b` is the number of executable files on the node, and `c` is the number of CPUs the node has.\n",
    "\n",
    "One last thing - both of my friends still live on the same street as when we grew up."
   ],
   "metadata": {
    "collapsed": false
   }
  },
  {
   "cell_type": "markdown",
   "source": [],
   "metadata": {
    "collapsed": false
   }
  },
  {
   "cell_type": "markdown",
   "source": [],
   "metadata": {
    "collapsed": false
   }
  },
  {
   "cell_type": "markdown",
   "source": [],
   "metadata": {
    "collapsed": false
   }
  },
  {
   "cell_type": "markdown",
   "source": [],
   "metadata": {
    "collapsed": false
   }
  },
  {
   "cell_type": "markdown",
   "source": [],
   "metadata": {
    "collapsed": false
   }
  }
 ],
 "metadata": {
  "kernelspec": {
   "display_name": "Python 3",
   "language": "python",
   "name": "python3"
  },
  "language_info": {
   "codemirror_mode": {
    "name": "ipython",
    "version": 2
   },
   "file_extension": ".py",
   "mimetype": "text/x-python",
   "name": "python",
   "nbconvert_exporter": "python",
   "pygments_lexer": "ipython2",
   "version": "2.7.6"
  }
 },
 "nbformat": 4,
 "nbformat_minor": 0
}
