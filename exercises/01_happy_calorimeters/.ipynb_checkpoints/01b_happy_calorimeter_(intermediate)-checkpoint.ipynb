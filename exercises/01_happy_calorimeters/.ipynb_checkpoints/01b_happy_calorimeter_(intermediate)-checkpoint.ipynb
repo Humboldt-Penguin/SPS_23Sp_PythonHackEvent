{
 "cells": [
  {
   "cell_type": "markdown",
   "id": "9ebe36dd-d699-4e86-b574-1e2fcc5fd85b",
   "metadata": {},
   "source": [
    "# Problem 01a: Happy Calorimeter (Intermediate Version)\n",
    "\n",
    "---\n",
    "---"
   ]
  },
  {
   "cell_type": "markdown",
   "id": "36c6f8be-c298-4183-9106-f4affc5befd5",
   "metadata": {
    "tags": []
   },
   "source": [
    "## [Overview]"
   ]
  },
  {
   "cell_type": "markdown",
   "id": "0f2cab8a-d745-46f7-884d-9b4e03164447",
   "metadata": {},
   "source": [
    "In this exercise, you'll use Python to read, process, visualize, and draw conclusions from real data taken at a high-energy physics experiment! We'll be emphasizing real-world research skills rather than fundamental computer science, but absolutely don't hesitate to ask for more resources if you'd like to learn more. \n",
    "\n",
    "By the end of this you'll know how to: \n",
    "* read formatted data files, \n",
    "* use the \"Numerical Python\" (i.e. numpy) library to work with arrays efficiently, and\n",
    "* do basic analysis/exploration of experimental data to come up with conclusions.\n",
    "\n",
    "Who is this for?\n",
    "* If you're just getting into physics and/or research, this is a great chance to learn some fundamental skills that will almost definitely come up in computational research. \n",
    "* If you already have some experience, hopefully this is a fun little activity to flex your Python skills in a new context :)\n",
    "\n",
    "What does \"01b\"/\"intermediate version\" mean?\n",
    "* Everyone is coming in with different levels of Python experience, so we wanted to give students a chance to challenge themselves. You can switch between the two versions whenever you want!\n",
    "* This version offers much less handholding."
   ]
  },
  {
   "cell_type": "markdown",
   "id": "7ce5742c-2ff1-47d3-a42b-bce785939689",
   "metadata": {
    "tags": []
   },
   "source": [
    "---\n",
    "## [Physics Background]"
   ]
  },
  {
   "cell_type": "markdown",
   "id": "8dc01e6a-678b-4491-b03f-1bdd044dcc50",
   "metadata": {},
   "source": [
    "<img src=\"https://i.imgur.com/TOQidMj.png\" width=800>\n",
    "\n",
    "\n",
    "The πM1 beam line at the Paul Scherrer Institute (PSI) has an electromagnetic calorimeter (pictured above) which measures the energy and timing of pions, muons, and electrons moving along the beam line. When high-energy particles enter the calorimeter, they initiate a “particle shower”, or a cascade of lower-energy secondary particles which deposit their (mostly kinetic) energy into the calorimeter. Note that all particles in the beam line have roughly the same initial speed. \n",
    "\n",
    "(_Note that this calorimeter is at PSI, which is separate from the LHC._)\n",
    "\n",
    "If you're curious/interested, further reading can be found here in order of increasing difficulty: \n",
    "* [Simple wikipedia article on calorimeters in particle physics](https://en.wikipedia.org/wiki/Calorimeter_(particle_physics)) \n",
    "* [CERN calorimeters](https://atlas.cern/Discover/Detector/Calorimeter) \n",
    "* [Introduction to the physics of calorimeters](https://indico.cern.ch/event/518474/contributions/1198681/attachments/1267581/1877122/Calorimetry-lecture-to-Southampton-students-4May2016-Cockerill-compressed.pdf) \n",
    "* [Paper: Electromagnetic calorimetry](https://www.sciencedirect.com/science/article/pii/S0168900211005572) \n",
    "* [Paper: The CMS Electromagnetic Calorimeter: overview, lessons learned during Run 1 and future projections](https://iopscience.iop.org/article/10.1088/1742-6596/587/1/012001/pdf)\n",
    "\n",
    "The calorimeter itself is an 8 by 8 array of crystals, which read out QDC (Charge-to-Digital Converter) values representing the energy of the particle event.\n",
    "\n",
    "**__We'll be giving you real data from the πM1 beam line calorimeter -- it's your job to process it with Python and draw a few conclusions!__**"
   ]
  },
  {
   "cell_type": "markdown",
   "id": "18c77cc6-3d80-4b5d-aac3-2e05ed38f8c4",
   "metadata": {},
   "source": [
    "---\n",
    "---\n",
    "## [Programming]\n",
    "To reiterate, this is the intermediate version which assumes a lot of prior experience with Python, Numpy, and Matplotlib. Of course, feel free to switch between the two! Especially feel free to peek at the hints scattered throughout the beginner notebook.\n",
    "\n",
    "---\n",
    "\n",
    "We'll be working with data from the file `calorimeter_data_v3.txt`. Your job is to understand the data by inspecting the file directly, read it into Python, and then analyze it to determine **what percent of the particle events are pions as opposed to muons/electrons.**\n",
    "\n",
    "Some helpful facts:\n",
    "- Note: The muon is 200 times more massive than the electron. The pion is only about 30% heavier than the muon.\n",
    "- We can assume the total energy of an event is simply the sum of all 8x8=64 calorimeter values for that event. Note that the calorimeter data is unitless due to the nature of charge-to-digital (QDC) readouts, but even with relative numbers \n",
    "- Assume that once a particle event has total energy more than 700, it's a pion. \n",
    "\n",
    "---\n",
    "\n",
    "&nbsp;\n"
   ]
  },
  {
   "cell_type": "code",
   "execution_count": null,
   "id": "702f006f-598b-49b2-94c1-e55978cf3349",
   "metadata": {
    "tags": []
   },
   "outputs": [],
   "source": [
    "import matplotlib.pyplot as plt\n",
    "import numpy as np\n",
    "\n",
    "# Insert code below"
   ]
  },
  {
   "cell_type": "markdown",
   "id": "761999c2-6310-4905-96c5-8880ba8c2b36",
   "metadata": {},
   "source": [
    "Round your answer to the nearest two digits, and that's the solution for this puzzle! \n",
    "\n",
    "If your percent of pions was 91.8% for example, then the solution is\n",
    "\n",
    "http://sps.physics.rutgers.edu/_92__.html"
   ]
  }
 ],
 "metadata": {
  "kernelspec": {
   "display_name": "Python 3 (ipykernel)",
   "language": "python",
   "name": "python3"
  },
  "language_info": {
   "codemirror_mode": {
    "name": "ipython",
    "version": 3
   },
   "file_extension": ".py",
   "mimetype": "text/x-python",
   "name": "python",
   "nbconvert_exporter": "python",
   "pygments_lexer": "ipython3",
   "version": "3.11.0"
  }
 },
 "nbformat": 4,
 "nbformat_minor": 5
}
