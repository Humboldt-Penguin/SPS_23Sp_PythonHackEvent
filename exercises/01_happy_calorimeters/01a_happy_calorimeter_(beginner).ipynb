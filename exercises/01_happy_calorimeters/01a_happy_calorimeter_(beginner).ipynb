{
 "cells": [
  {
   "cell_type": "markdown",
   "id": "9ebe36dd-d699-4e86-b574-1e2fcc5fd85b",
   "metadata": {},
   "source": [
    "# Exercise 01a: Happy Calorimeter (Beginner Version)\n",
    "\n",
    "---\n",
    "---"
   ]
  },
  {
   "cell_type": "markdown",
   "id": "36c6f8be-c298-4183-9106-f4affc5befd5",
   "metadata": {
    "tags": []
   },
   "source": [
    "## [Overview]"
   ]
  },
  {
   "cell_type": "markdown",
   "id": "0f2cab8a-d745-46f7-884d-9b4e03164447",
   "metadata": {},
   "source": [
    "In this exercise, you'll use Python to read, process, visualize, and draw conclusions from real data taken at a high-energy physics experiment! We'll be emphasizing real-world research skills rather than fundamental computer science, but absolutely don't hesitate to ask for more resources if you'd like to learn more. \n",
    "\n",
    "By the end of this you'll know how to: \n",
    "* read formatted data files, \n",
    "* use the \"Numerical Python\" (i.e. numpy) library to work with arrays efficiently, and\n",
    "* do basic analysis/exploration of experimental data to come up with conclusions.\n",
    "\n",
    "Who is this for?\n",
    "* If you're just getting into physics and/or research, this is a great chance to learn some fundamental skills that will almost definitely come up in computational research. \n",
    "* If you already have some experience, hopefully this is a fun little activity to flex your Python skills in a new context :)\n",
    "\n",
    "What does \"01a\"/\"easy\"/\"beginner version\" mean?\n",
    "* Everyone is coming in with different levels of Python experience, so we wanted to give students a chance to challenge themselves. You can switch between the two versions whenever you want!"
   ]
  },
  {
   "cell_type": "markdown",
   "id": "7ce5742c-2ff1-47d3-a42b-bce785939689",
   "metadata": {
    "tags": []
   },
   "source": [
    "---\n",
    "## [Physics Background]"
   ]
  },
  {
   "cell_type": "markdown",
   "id": "8dc01e6a-678b-4491-b03f-1bdd044dcc50",
   "metadata": {},
   "source": [
    "![happy calorimeter](https://i.imgur.com/TOQidMj.png)\n",
    "\n",
    "The πM1 beam line at the Paul Scherrer Institute (PSI) has an electromagnetic calorimeter (pictured above) which measures the energy and timing of pions, muons, and electrons moving along the beam line. When high-energy particles enter the calorimeter, they initiate a “particle shower”, or a cascade of lower-energy secondary particles which deposit their energy into the calorimeter.\n",
    "\n",
    "(_Note that this calorimeter is at PSI, which is separate from the LHC._)\n",
    "\n",
    "If you're curious/interested, further reading can be found here in order of increasing difficulty: \n",
    "* [Simple wikipedia article on calorimeters in particle physics](https://en.wikipedia.org/wiki/Calorimeter_(particle_physics)) \n",
    "* [CERN calorimeters](https://atlas.cern/Discover/Detector/Calorimeter) \n",
    "* [Introduction to the physics of calorimeters](https://indico.cern.ch/event/518474/contributions/1198681/attachments/1267581/1877122/Calorimetry-lecture-to-Southampton-students-4May2016-Cockerill-compressed.pdf) \n",
    "* [Paper: Electromagnetic calorimetry](https://www.sciencedirect.com/science/article/pii/S0168900211005572) \n",
    "* [Paper: The CMS Electromagnetic Calorimeter: overview, lessons learned during Run 1 and future projections](https://iopscience.iop.org/article/10.1088/1742-6596/587/1/012001/pdf)\n",
    "\n",
    "The calorimeter itself is an 8 by 8 array of crystals, which read out QDC (Charge-to-Digital Converter) values representing the energy of the particle event.\n",
    "\n",
    "**__We'll be giving you real data from the πM1 beam line calorimeter -- it's your job to process it with Python and draw a few conclusions!__**"
   ]
  },
  {
   "cell_type": "markdown",
   "id": "18c77cc6-3d80-4b5d-aac3-2e05ed38f8c4",
   "metadata": {},
   "source": [
    "---\n",
    "## [Programming]\n",
    "To reiterate, this is the beginner version which assumes little experiencew with Python and explains/guides you through most steps. This may spoil the fun of figuring it out yourself if you're more advanced. See `01b_happy_calorimeter_(intermediate).ipynb` for the same exercise but with less guidance. Of course, feel free to switch between the two!"
   ]
  },
  {
   "cell_type": "markdown",
   "id": "f3dc46e5-ab59-4be9-9853-0052e37ab9fc",
   "metadata": {},
   "source": [
    "## Libraries\n",
    "\n",
    "In Python, a library is a collection of pre-written code that you can use to perform specific tasks. Libraries are designed to make it easier to write Python programs by providing ready-made code that you can use to solve common problems.\n",
    "\n",
    "For example, if you're writing a Python program that needs to perform mathematical calculations, you can use the \"math\" library to access pre-written code that performs these calculations. Similarly, if you're writing a program that needs to work with dates and times, you can use the \"datetime\" library to access pre-written code that handles date and time calculations.\n",
    "\n",
    "Python libraries are usually created by other programmers and shared with the Python community, so you don't need to write all the code from scratch. This saves you time and makes it easier to create complex programs without having to be an expert in every aspect of programming. Some libraries such as the aforementioned \"math\" library are built into Python, and others need to be installed from the internet. The easiest way to do this is with a package manager such as conda, which is what we're using the cluster. Look out for future workshops to learn more!\n",
    "\n",
    "To use a Python library, you typically need to import it into your program using an \"import\" statement. Once you've imported a library, you can use its functions and classes in your code to perform the specific tasks you need. It's good practice to also include `as _` which provides a shortcut to access code within that library -- you'll see more of this later.\n",
    "\n",
    "In our case, we'll be using `matplotlib` for making graphs and `numpy` for working with arrays."
   ]
  },
  {
   "cell_type": "code",
   "execution_count": 2,
   "id": "702f006f-598b-49b2-94c1-e55978cf3349",
   "metadata": {
    "tags": []
   },
   "outputs": [],
   "source": [
    "import matplotlib.pyplot as plt\n",
    "import numpy as np"
   ]
  },
  {
   "cell_type": "code",
   "execution_count": 8,
   "id": "3fd9db32-81c4-4ca9-b609-dc976be9b972",
   "metadata": {
    "tags": []
   },
   "outputs": [
    {
     "data": {
      "text/plain": "<Figure size 640x480 with 2 Axes>",
      "image/png": "[encoded data removed]"
     },
     "metadata": {},
     "output_type": "display_data"
    }
   ],
   "source": [
    "dat = np.loadtxt('calorimeter_data_v3.txt', skiprows=24, encoding=\"utf8\")\n",
    "\n",
    "dat = dat.reshape(-1,8,8)\n",
    "dat = dat.transpose(0,2,1)\n",
    "\n",
    "plt.imshow(dat[0])\n",
    "plt.gca().invert_yaxis()\n",
    "plt.colorbar()\n",
    "plt.show()"
   ]
  },
  {
   "cell_type": "code",
   "execution_count": 9,
   "id": "ceb08b77-34b6-4950-b43a-0f2d41d38fe3",
   "metadata": {
    "tags": []
   },
   "outputs": [
    {
     "data": {
      "text/plain": "<Figure size 640x480 with 1 Axes>",
      "image/png": "[encoded data removed]"
     },
     "metadata": {},
     "output_type": "display_data"
    }
   ],
   "source": [
    "maxs = []\n",
    "sums = []\n",
    "for event in dat:\n",
    "    maxs.append(np.amax(event))\n",
    "    sums.append(np.sum(event))\n",
    "    \n",
    "plt.hist(sums, bins=40)\n",
    "plt.show()"
   ]
  },
  {
   "cell_type": "code",
   "execution_count": null,
   "id": "30c53dd5-1017-4558-ac4f-f5bae7ed47f1",
   "metadata": {},
   "outputs": [],
   "source": []
  },
  {
   "cell_type": "code",
   "execution_count": null,
   "id": "666d7174-9a1b-4cf3-b0e1-6976259472ff",
   "metadata": {},
   "outputs": [],
   "source": []
  },
  {
   "cell_type": "code",
   "execution_count": 10,
   "id": "5fccc1f5-2993-49a6-9713-2c4c79f86b54",
   "metadata": {
    "tags": []
   },
   "outputs": [
    {
     "data": {
      "text/plain": "<matplotlib.image.AxesImage at 0x18402da9cd0>"
     },
     "execution_count": 10,
     "metadata": {},
     "output_type": "execute_result"
    },
    {
     "data": {
      "text/plain": "<Figure size 640x480 with 1 Axes>",
      "image/png": "[encoded data removed]"
     },
     "metadata": {},
     "output_type": "display_data"
    }
   ],
   "source": [
    "dat = np.loadtxt('mystery_data.txt')\n",
    "\n",
    "dat = dat.reshape(40,40)\n",
    "plt.imshow(dat, cmap='Greys')"
   ]
  },
  {
   "cell_type": "raw",
   "id": "1f0c22d5-84dc-4d88-885b-15c55dad1a88",
   "metadata": {},
   "source": [
    "dat = '0000000000000000000000000000000000000000000000000000000000000000000000000000000000000000000000000000000000000000000000000000000000000000000000000000000000000000000011111111101110000010110111111111000000001000000110000000010100011000000100000000100000001000000011011001000000010000000010011100101100111101110100111001000000001001110010111010010111010011100100000000100111001011111000101101001110010000000010000000100110010010110100000001000000001100000110001001101011011000001100000000111111111011010110101101111111110000000000000000000010100011110000000000000000001111100010110000011011100011100100000000111110001011000001101110011110010000000000111000011110000001111011100001000000001111010011000000010000000001111100000000000000110010001110010011110110010000000000000100101110110101000111110111000000000110010010111010010110011111011100000000011001000111011000011100110101110000000001100111111100011011111011110110000000001001111000111101111000100000011100000000000101111000111001100111110001100000000000010111100001100010111111100110000000000000000000110101110111000011100000000000111111111000111110101101001011110000000011000001100001011011110000100111000000001000000010000101101111000110011100000000100111001000101001111111111010010000000010011100101101011011110100100111000000001001110010110110000110110001111000000000100000001011110000010010001011110000000010000001101111000001001000101111000000001111111110110100010100000000111100000000000000000000000000000000000000000000000000000000000000000000000000000000000000000000000000000000000000000000000000000000000000000000000000000000000000000000'\n",
    "\n",
    "dat = [int(i) for i in dat]\n",
    "\n",
    "f = open('mystery_data.txt', 'w')\n",
    "\n",
    "for i in dat:\n",
    "    f.write(f'{i} ')\n",
    "    \n",
    "f.close()"
   ]
  }
 ],
 "metadata": {
  "kernelspec": {
   "display_name": "Python 3 (ipykernel)",
   "language": "python",
   "name": "python3"
  },
  "language_info": {
   "codemirror_mode": {
    "name": "ipython",
    "version": 3
   },
   "file_extension": ".py",
   "mimetype": "text/x-python",
   "name": "python",
   "nbconvert_exporter": "python",
   "pygments_lexer": "ipython3",
   "version": "3.11.0"
  }
 },
 "nbformat": 4,
 "nbformat_minor": 5
}
