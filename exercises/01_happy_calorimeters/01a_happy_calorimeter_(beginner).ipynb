{
 "cells": [
  {
   "cell_type": "markdown",
   "id": "9ebe36dd-d699-4e86-b574-1e2fcc5fd85b",
   "metadata": {},
   "source": [
    "# Puzzle 01a: Happy Calorimeter (Beginner Version)\n",
    "\n",
    "---\n",
    "---"
   ]
  },
  {
   "cell_type": "markdown",
   "id": "36c6f8be-c298-4183-9106-f4affc5befd5",
   "metadata": {
    "tags": []
   },
   "source": [
    "## [Overview]"
   ]
  },
  {
   "cell_type": "markdown",
   "id": "0f2cab8a-d745-46f7-884d-9b4e03164447",
   "metadata": {},
   "source": [
    "In this puzzle, you'll use Python to read, process, visualize, and draw conclusions from real data taken at a high-energy physics experiment! We'll be emphasizing real-world research skills rather than fundamental computer science, but absolutely don't hesitate to ask for more resources if you'd like to learn more.\n",
    "\n",
    "By the end of this you'll know how to: \n",
    "* read formatted data files, \n",
    "* use the \"Numerical Python\" (i.e. numpy) library to work with arrays efficiently, and\n",
    "* do basic analysis/exploration of experimental data to come up with conclusions.\n",
    "\n",
    "Who is this for?\n",
    "* If you're just getting into physics and/or research, this is a great chance to learn some fundamental skills that will almost definitely come up in computational research. \n",
    "* If you already have some experience, hopefully this is a fun little activity to flex your Python skills in a new context :)\n",
    "\n",
    "What does \"01a\"/\"easy\"/\"beginner version\" mean?\n",
    "* Everyone is coming in with different levels of Python experience, so we wanted to give students a chance to challenge themselves. You can switch between the two versions whenever you want!"
   ]
  },
  {
   "cell_type": "markdown",
   "id": "7ce5742c-2ff1-47d3-a42b-bce785939689",
   "metadata": {
    "tags": []
   },
   "source": [
    "---\n",
    "## [Physics Background]"
   ]
  },
  {
   "cell_type": "markdown",
   "id": "8dc01e6a-678b-4491-b03f-1bdd044dcc50",
   "metadata": {},
   "source": [
    "<img src=\"https://i.imgur.com/TOQidMj.png\" width=800>\n",
    "\n",
    "\n",
    "The πM1 beam line at the Paul Scherrer Institute (PSI) has an electromagnetic calorimeter (pictured above) which measures the energy and timing of pions, muons, and electrons moving along the beam line. When high-energy particles enter the calorimeter, they initiate a “particle shower”, or a cascade of lower-energy secondary particles which deposit their (mostly kinetic) energy into the calorimeter. Note that all particles in the beam line have roughly the same initial speed. \n",
    "\n",
    "(_Note that this calorimeter is at PSI, which is separate from the LHC._)\n",
    "\n",
    "If you're curious/interested, further reading can be found here in order of increasing difficulty: \n",
    "* [Simple wikipedia article on calorimeters in particle physics](https://en.wikipedia.org/wiki/Calorimeter_(particle_physics)) \n",
    "* [CERN calorimeters](https://atlas.cern/Discover/Detector/Calorimeter) \n",
    "* [Introduction to the physics of calorimeters](https://indico.cern.ch/event/518474/contributions/1198681/attachments/1267581/1877122/Calorimetry-lecture-to-Southampton-students-4May2016-Cockerill-compressed.pdf) \n",
    "* [Paper: Electromagnetic calorimetry](https://www.sciencedirect.com/science/article/pii/S0168900211005572) \n",
    "* [Paper: The CMS Electromagnetic Calorimeter: overview, lessons learned during Run 1 and future projections](https://iopscience.iop.org/article/10.1088/1742-6596/587/1/012001/pdf)\n",
    "\n",
    "The calorimeter itself is an 8 by 8 array of crystals, which read out QDC (Charge-to-Digital Converter) values representing the energy of the particle event.\n",
    "\n",
    "**__We'll be giving you real data from the πM1 beam line calorimeter -- it's your job to process it with Python and draw a few conclusions!__**"
   ]
  },
  {
   "cell_type": "markdown",
   "id": "18c77cc6-3d80-4b5d-aac3-2e05ed38f8c4",
   "metadata": {},
   "source": [
    "---\n",
    "---\n",
    "## [Programming]\n",
    "To reiterate, this is the beginner version which assumes little experience with Python and explains/guides you through most steps. This may spoil the fun of figuring it out yourself if you're more advanced. See `01b_happy_calorimeter_(intermediate).ipynb` for the same exercise but with less guidance. Of course, feel free to switch between the two!"
   ]
  },
  {
   "cell_type": "markdown",
   "id": "f3dc46e5-ab59-4be9-9853-0052e37ab9fc",
   "metadata": {},
   "source": [
    "### Libraries\n",
    "\n",
    "In Python, a library is a collection of pre-written code that you can use to perform specific tasks. Libraries are designed to make it easier to write Python programs by providing ready-made code that you can use to solve common problems.\n",
    "\n",
    "For example, if you're writing a Python program that needs to perform mathematical calculations, you can use the \"math\" library to access pre-written code that performs these calculations. Similarly, if you're writing a program that needs to work with dates and times, you can use the \"datetime\" library to access pre-written code that handles date and time calculations.\n",
    "\n",
    "Python libraries are usually created by other programmers and shared with the Python community, so you don't need to write all the code from scratch. This saves you time and makes it easier to create complex programs without having to be an expert in every aspect of programming. Some libraries such as the aforementioned \"math\" library are built into Python, and others need to be installed from the internet. The easiest way to do this is with a package manager such as conda, which is what we're using the cluster. Look out for future workshops to learn more! You typically won't use many libraries in CS courses, but they come up everywhere in research.\n",
    "\n",
    "To use a Python library, you typically need to import it into your program using an \"import\" statement. Once you've imported a library, you can use its functions and classes in your code to perform the specific tasks you need. It's good practice to also include `as _` which provides a shorthand to access code within that library -- you'll see more of this later.\n",
    "\n",
    "In our case, we'll be using `matplotlib` for making graphs and `numpy` for working with arrays, more on this later."
   ]
  },
  {
   "cell_type": "code",
   "execution_count": 11,
   "id": "702f006f-598b-49b2-94c1-e55978cf3349",
   "metadata": {
    "tags": []
   },
   "outputs": [],
   "source": [
    "import matplotlib.pyplot as plt\n",
    "import numpy as np"
   ]
  },
  {
   "cell_type": "markdown",
   "source": [
    "### Reading Data\n",
    "\n",
    "Programming languages can enable really cool analysis that would otherwise be impossible by hand (unless you're Kepler deriving laws of orbital motion by meticulously tracking planet positions...). However this requires strong fundamentals in: \n",
    "1. Reading data stored in external files, usually generated by various instruments (formats such as TXT, CSV, JSON, etc.), \n",
    "2. Organizing/storing that data in a structured way for efficient accessing, i.e. using an appropriate \"data structure\" (common are arrays, matricies, tables, dictionaries, hash maps, linked lists, stacks, queues, trees, etc.).\n",
    "\n",
    "We'll deal with a simple yet extremely versatile and useful example of reading from a text file and storing in a numpy array."
   ],
   "metadata": {
    "collapsed": false
   }
  },
  {
   "cell_type": "markdown",
   "source": [
    "---\n",
    "\n",
    "Now we're getting interactive! \n",
    "\n",
    "It might seem counterintuitive, but a strong programmer won't necessarily have everything memorized. **What's more important is their ability to learn things on the fly (using documentation, Google, and ChatGPT)**. That's why, for these exercises, we'll give pointers on what tools to use but it's up to you to figure out how to use them. \n",
    "\n",
    "## EXERCISE 1:\n",
    "\n",
    "TASK: We'll be working with data from the file `calorimeter_data_v3.txt`. It's a good idea to open the file and poke around (**make sure not to change anything though**). Your job is to read the data into a numpy array using the `np.loadtxt` function provided by numpy (recall that earlier we \"aliased\" `numpy` as `np`, so we can use that shorthand in our code). We've provided some functions below to check your work, but feel free to call us over if you want to discuss your approach.\n",
    "\n",
    "Again, DO NOT modify `calorimeter_data_v3.txt` in any way."
   ],
   "metadata": {
    "collapsed": false
   }
  },
  {
   "cell_type": "markdown",
   "source": [
    "<details>\n",
    "<summary>Hint 1 (click to expand)</summary>\n",
    "    \n",
    "This specific list of hints are in order from most to least \"pure\", meaning the later ones are less reliable and technically accurate. However the later ones are often easier to understand -- try a few and see what works for you!\n",
    "\n",
    "1. You can usually access a library-provided function's documentation straight from Python! Try putting `help(np.loadtxt)` into the cell below and running.\n",
    "2. You can look up the library's official documentation -- search \"numpy loadtxt\" and the first result should be [this link](https://numpy.org/doc/stable/reference/generated/numpy.loadtxt.html).\n",
    "3. If the library's documentation is too complex, you can often find simpler explanations online -- search \"numpy loadtxt\" and you might find [this link](https://likegeeks.com/numpy-loadtxt-tutorial/) a few results down. \n",
    "4. Ask [ChatGPT](https://chat.openai.com/chat) \"How do I use np.loadtxt to read a file?\". You'll be surprised...\n",
    "  \n",
    "</details>"
   ],
   "metadata": {
    "collapsed": false
   }
  },
  {
   "cell_type": "code",
   "execution_count": null,
   "outputs": [],
   "source": [
    "## EDIT THIS CELL -- write your code for exercise 1 below! Feel free to make additional cells\n",
    "\n"
   ],
   "metadata": {
    "collapsed": false
   }
  },
  {
   "cell_type": "markdown",
   "source": [
    "<details>\n",
    "<summary>Hint 2</summary>\n",
    "    \n",
    "If you're having trouble with avoiding the header in the data file, look into the `skiprows` parameter of `np.loadtxt`.\n",
    "  \n",
    "</details>"
   ],
   "metadata": {
    "collapsed": false
   }
  },
  {
   "cell_type": "markdown",
   "source": [
    "Run the cell below to test your solution for exercise 1:"
   ],
   "metadata": {
    "collapsed": false
   }
  },
  {
   "cell_type": "code",
   "execution_count": null,
   "outputs": [],
   "source": [
    "## DO NOT EDIT THIS CELL -- run this to test your previous solution\n",
    "\n",
    "assert 'dat' in locals(), \"ERROR: Make sure you store your data in a variable called `dat`. This isn't mandatory, it's just we can automatically test your code.\"\n",
    "assert type(dat) == np.ndarray, \"ERROR: `dat` is not a numpy array.\"\n",
    "assert dat.size == 64000, \"ERROR: You missed some data while reading! You should ahve 64,000 data values total.\""
   ],
   "metadata": {
    "collapsed": false
   }
  },
  {
   "cell_type": "markdown",
   "source": [
    "---\n",
    "## EXERCISE 2:\n",
    "\n",
    "Congrats, you've successfully read the calorimeter data into a numpy array called `dat`! Now let's do some wrangling to make it more easy/efficient to access.\n",
    "\n",
    "TASK: As stated in the header for the calorimeter data file, each row is an event with 64 values for an 8x8 grid of values -- a picture representation of one event is shown below. Right now, we don't have an easy way to access the 94th event, 2nd row, 3rd column value. Manipulate the dimensions of the array to yield a 3D array indexed by (1) event number, (2) x coordinate, (3) y coordinate [in that order!!].\n",
    "\n",
    "You'll be modifying the `dat` array rather than creating a new one (this is for our automated testing purposes). NOTE: you might have to run your code for exercise 1 to \"reset\" the `dat` array after you modify it so you can start from a clean slate.\n",
    "\n",
    "<img src=\"https://i.imgur.com/0Q6dTkq.png\" width=400>"
   ],
   "metadata": {
    "collapsed": false
   }
  },
  {
   "cell_type": "code",
   "execution_count": null,
   "outputs": [],
   "source": [
    "## EDIT THIS CELL -- write your code for exercise 2 below! Feel free to make additional cells\n",
    "\n"
   ],
   "metadata": {
    "collapsed": false
   }
  },
  {
   "cell_type": "markdown",
   "source": [
    "<details>\n",
    "<summary>Hint 1</summary>\n",
    "\n",
    "Numpy provides nice ways to look at the dimensions of your numpy array. Use `dat.shape` to inspect the dimensions of `dat` as you go.\n",
    "\n",
    "</details>"
   ],
   "metadata": {
    "collapsed": false
   }
  },
  {
   "cell_type": "markdown",
   "source": [
    "<details>\n",
    "<summary>Hint 2</summary>\n",
    "\n",
    "You'll be using two numpy functions to (1) change `dat` from a 2D array to a 3D array, and (2) change the order of dimensions. Use Google liberally!\n",
    "\n",
    "</details>"
   ],
   "metadata": {
    "collapsed": false
   }
  },
  {
   "cell_type": "markdown",
   "source": [
    "<details>\n",
    "<summary>Hint 3</summary>\n",
    "\n",
    "The two numpy functions you'll be using are `dat.reshape` and `dat.transpose`. Use the hints for exercise 1 to figure out how to learn more about these\n",
    "\n",
    "</details>"
   ],
   "metadata": {
    "collapsed": false
   }
  },
  {
   "cell_type": "markdown",
   "source": [
    "<details>\n",
    "<summary>Hint 4</summary>\n",
    "\n",
    "When using `dat.reshape`, passing `-1` as a parameter can be very useful. See [this link](https://stackoverflow.com/questions/18691084/what-does-1-mean-in-numpy-reshape) for more details.\n",
    "    \n",
    "</details>"
   ],
   "metadata": {
    "collapsed": false
   }
  },
  {
   "cell_type": "markdown",
   "source": [
    "Run the cell below to test your solution for exercise 2:"
   ],
   "metadata": {
    "collapsed": false
   }
  },
  {
   "cell_type": "code",
   "execution_count": null,
   "outputs": [],
   "source": [
    "## DO NOT EDIT THIS CELL -- run this to test your previous solution\n",
    "\n",
    "assert dat.shape == (1000, 8, 8), \"ERROR: `dat` does not have the correct dimensions.\"\n",
    "assert dat[0,0,0] == -0.0105882, \"ERROR: Something went wrong when storing values, you should have dat[0,0,0] == -0.0105882\"\n",
    "assert not(dat[10,3,6]==-3.6 and dat[10,6,3]==-1.2), \"ERROR: You forgot to switch the x and y dimensions/axes. Recall that your array should be indexed by (1) event number, (2) x coordinate, (3) y coordinate. Right now your order is (1) (3) (2).\""
   ],
   "metadata": {
    "collapsed": false
   }
  },
  {
   "cell_type": "markdown",
   "source": [
    "### BONUS: \n",
    "In this situation, you can easily/quickly reload `dat` by simply running a few lines of code. However, this gets inconvenient when:\n",
    "(1) The original data file is extremely large.\n",
    "(2) Processing the data file into a convenient data structure requires a lot of time/computational resources.\n",
    "\n",
    "A prime example of this is machine learning, where the original datasets are massive and the models take hours to weeks to train. We work around this by directly saving our data structures into special formats.\n",
    "\n",
    "TASK: Use `np.save` and `np.load` to save the `dat` array to a .npy file, then reload it into a new array and verify it matches the original."
   ],
   "metadata": {
    "collapsed": false
   }
  },
  {
   "cell_type": "code",
   "execution_count": null,
   "outputs": [],
   "source": [
    "## EDIT THIS CELL -- write your code for exercise 2 bonus below! Feel free to make additional cells\n",
    "\n"
   ],
   "metadata": {
    "collapsed": false
   }
  },
  {
   "cell_type": "markdown",
   "source": [
    "---\n",
    "## EXERCISE 3:\n",
    "\n",
    "You're all ready to start doing physics with your data! First, lets start by visualizing individual events to learn what the data looks like.\n",
    "\n",
    "So far we've been using the numpy library to make working with arrays extremely easy/convenient. Now we'll dive into using the matplotlib library to plot our data in various ways.\n",
    "\n",
    "TASK: Use `plt.imshow` to create a 2D heatmap that represents where a particle event occurred on the calorimeter. Try to make it look like the previous image in exercise 2, namely:\n",
    "\n",
    "- The bottom left crystal is (0,0), not (0,7) -- edit the plot, not the data!\n",
    "- Add some titles!\n",
    "- There's a colorbar on the side."
   ],
   "metadata": {
    "collapsed": false
   }
  },
  {
   "cell_type": "code",
   "execution_count": null,
   "outputs": [],
   "source": [
    "## EDIT THIS CELL -- write your code for exercise 3 below! Feel free to make additional cells\n",
    "\n"
   ],
   "metadata": {
    "collapsed": false
   }
  },
  {
   "cell_type": "markdown",
   "source": [
    "<details>\n",
    "<summary>Hint 1</summary>\n",
    "\n",
    "Recall: \"`dat` is a 3D array indexed by (1) event number, (2) x coordinate, and (3) y coordinate\". \n",
    "    \n",
    "Thus we can access an event with `dat[eventnum]` and a specific crystal value with `dat[eventnum, x_coord, y_coord]` (replacing the variables in the bracket with actual numbers). \n",
    "    \n",
    "NOTE: numpy indexing is different from native Python/C/Java indexing, which would be more like `dat[eventnum][x_coord][y_coord]`.\n",
    "\n",
    "</details>"
   ],
   "metadata": {
    "collapsed": false
   }
  },
  {
   "cell_type": "markdown",
   "source": [
    "...\n",
    "\n",
    "Once you're done, take a look at a few events. Can you tell where the particle impacted the calorimeter?"
   ],
   "metadata": {
    "collapsed": false
   }
  },
  {
   "cell_type": "markdown",
   "source": [
    "---\n",
    "## EXERCISE 4:\n",
    "\n",
    "Now that we know how to visualize individual events, lets try to find ways to visualize the entire dataset. Both approaches offer unique physical insights, as you'll see soon.\n",
    "\n",
    "TASK 1: Take a minute or two to think of ways you could analyze the entire data set. Call one of us (Zain or Andrew) over and tell us what you think!\n",
    "\n",
    "TASK 2: Use a histogram to plot the distribution of energies deposited by particle events. We can assume the total energy of an event is simply the sum of all 8x8=64 calorimeter values for that event. Note that the calorimeter data is unitless due to the nature of charge-to-digital (QDC) readouts, but even with relative numbers "
   ],
   "metadata": {
    "collapsed": false
   }
  },
  {
   "cell_type": "code",
   "execution_count": null,
   "outputs": [],
   "source": [
    "## EDIT THIS CELL -- write your code for exercise 4 below! Feel free to make additional cells\n",
    "\n"
   ],
   "metadata": {
    "collapsed": false
   }
  },
  {
   "cell_type": "markdown",
   "source": [
    "<details>\n",
    "<summary>Hint 1</summary>\n",
    "\n",
    "Rather than manually looping through array values to sum them up, you can use `np.sum`.\n",
    "\n",
    "</details>"
   ],
   "metadata": {
    "collapsed": false
   }
  },
  {
   "cell_type": "markdown",
   "source": [
    "<details>\n",
    "<summary>Hint 2</summary>\n",
    "\n",
    "Some Python tips:\n",
    "    \n",
    "You can declare an empty list with `sums = []` and add to it with `sums.append(value)`.\n",
    "    \n",
    "You can loop through each 8x8 event with `for event in dat:`\n",
    "    \n",
    "\n",
    "</details>"
   ],
   "metadata": {
    "collapsed": false
   }
  },
  {
   "cell_type": "markdown",
   "source": [
    "...\n",
    "\n",
    "Once you're done, look at the number and distribution of peaks on your histogram. How can we explain this with the experiment?"
   ],
   "metadata": {
    "collapsed": false
   }
  },
  {
   "cell_type": "markdown",
   "source": [
    "---\n",
    "## EXERCISE 5:\n",
    "\n",
    "Recall that the πM1 beam line consists of three types of particles: electrons, muons, and pions. All particles in the beam line are moving with the same speed, but as we've seen, they deposit different amounts of their (mostly kinetic) energy into the calorimeter. Here's a description of the latter two if you're not familiar:\n",
    "\n",
    "> Muons are similar to electrons but are more massive. They have a negative charge and are often created in cosmic ray collisions in Earth's atmosphere. They can travel through matter, including dense materials like lead, and are used in scientific experiments to study the properties of matter.\n",
    "> \n",
    "> Pions, on the other hand, can be either positively charged, negatively charged, or neutral. They are also created in cosmic ray collisions and can be found in atomic nuclei. They are not as stable as muons and decay quickly, but they play an important role in the strong nuclear force that holds the nucleus of atoms together.\n",
    "> \n",
    "> **The muon is 200 times more massive than the electron. The pion is only about 30% heavier than the muon.**\n",
    "\n",
    "FINAL TASK: Can you find what percent of the beam line is made up of pions? \n",
    "\n",
    "Assume that once a particle event has total energy more than 700, it's a pion. "
   ],
   "metadata": {
    "collapsed": false
   }
  },
  {
   "cell_type": "code",
   "execution_count": null,
   "outputs": [],
   "source": [
    "## EDIT THIS CELL -- write your code for exercise 2 below! Feel free to make additional cells\n",
    "\n"
   ],
   "metadata": {
    "collapsed": false
   }
  },
  {
   "cell_type": "markdown",
   "source": [
    "Round your answer to the nearest two digits, and that's the solution for this puzzle! \n",
    "\n",
    "If your percent of pions was 91.8% for example, then the solution is\n",
    "\n",
    "http://sps.physics.rutgers.edu/_92__.html"
   ],
   "metadata": {
    "collapsed": false
   }
  }
 ],
 "metadata": {
  "kernelspec": {
   "display_name": "Python 3 (ipykernel)",
   "language": "python",
   "name": "python3"
  },
  "language_info": {
   "codemirror_mode": {
    "name": "ipython",
    "version": 3
   },
   "file_extension": ".py",
   "mimetype": "text/x-python",
   "name": "python",
   "nbconvert_exporter": "python",
   "pygments_lexer": "ipython3",
   "version": "3.11.0"
  }
 },
 "nbformat": 4,
 "nbformat_minor": 5
}
