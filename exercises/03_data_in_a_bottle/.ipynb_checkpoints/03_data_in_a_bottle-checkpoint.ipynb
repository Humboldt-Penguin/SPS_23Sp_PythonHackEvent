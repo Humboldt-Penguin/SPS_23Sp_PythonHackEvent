{
 "cells": [
  {
   "cell_type": "markdown",
   "id": "679ac33a-d444-4935-ae88-d4f0835b3733",
   "metadata": {},
   "source": [
    "# Problem 03: Data in a Bottle\n",
    "---"
   ]
  },
  {
   "cell_type": "markdown",
   "id": "90032529-8adc-4c0f-ab69-710b49b7296f",
   "metadata": {
    "tags": []
   },
   "source": [
    "## [Overview]"
   ]
  },
  {
   "cell_type": "markdown",
   "id": "82cde039-22e8-45c1-bea9-46aa98b11022",
   "metadata": {},
   "source": [
    "A mysterious organization named \"Fermi 3301\" is looking for highly-intelligent individual to join their group. To test you, they've provided an unexplained dataset in the form of the text file `mystery_data.txt`. \n",
    "\n",
    "Your task is simple: decode it!"
   ]
  },
  {
   "cell_type": "code",
   "execution_count": 16,
   "id": "eea93494-4e7f-4d12-a89f-bef5b3072ba5",
   "metadata": {
    "tags": []
   },
   "outputs": [],
   "source": [
    "import numpy as np\n",
    "import matplotlib.pyplot as plt\n",
    "\n",
    "# Write your code below\n",
    "\n"
   ]
  },
  {
   "cell_type": "markdown",
   "id": "c6d33f42-e85f-41c1-a63d-685b72a0edee",
   "metadata": {},
   "source": [
    "---\n",
    "<details>\n",
    "<summary>Hint</summary>\n",
    "\n",
    "See activity 01a, particularly exercises 1 and 3.\n",
    "\n",
    "</details>"
   ]
  }
 ],
 "metadata": {
  "kernelspec": {
   "display_name": "Python 3 (ipykernel)",
   "language": "python",
   "name": "python3"
  },
  "language_info": {
   "codemirror_mode": {
    "name": "ipython",
    "version": 3
   },
   "file_extension": ".py",
   "mimetype": "text/x-python",
   "name": "python",
   "nbconvert_exporter": "python",
   "pygments_lexer": "ipython3",
   "version": "3.11.0"
  }
 },
 "nbformat": 4,
 "nbformat_minor": 5
}
